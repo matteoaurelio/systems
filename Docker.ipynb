{
 "cells": [
  {
   "cell_type": "markdown",
   "metadata": {},
   "source": [
    "\n",
    "### SSH: Secure Shell\n",
    "\n",
    "SSH stands for \"Secure Shell.\" It's a cryptographic network protocol for operating network services securely over an unsecured network. Common applications include remote command-line login and remote command execution, but any network service can be secured with SSH.\n",
    "\n",
    "The main advantage of SSH is that it provides a secure channel over an unsecured network, like the internet, through which commands can be sent, data can be transferred, and administrative tasks can be performed, all in an encrypted manner to prevent eavesdropping.\n",
    "\n",
    "### SSH Command Structure\n",
    "\n",
    "When you use the command `ssh cloud_user@<PUBLIC.IP.ADDRESS>`, you're instructing your system to use the SSH protocol to connect to a remote machine with the provided IP address. Here's the breakdown:\n",
    "\n",
    "- `ssh`: This invokes the SSH client, signaling that you want to establish a secure connection.\n",
    "  \n",
    "- `cloud_user`: This is the username on the remote system that you want to log in as. It's required so the remote system knows which user's environment and permissions you'll be using once you're logged in.\n",
    "  \n",
    "- `@`: The at symbol separates the username from the address of the remote machine.\n",
    "  \n",
    "- `<PUBLIC.IP.ADDRESS>`: This is a placeholder for the actual IP address of the remote machine you want to connect to. \n",
    "\n",
    "### Public IP Address:\n",
    "\n",
    "Every device connected to the internet is assigned an IP (Internet Protocol) address. IP addresses are divided into two types: \n",
    "\n",
    "1. **Public IP Address**: This is the address used to communicate over the internet. It's like your home's street address but for your computer or server on the internet. Every device that is online has a unique IP address. This IP can be static (doesn't change) or dynamic (can change whenever you connect to the internet).\n",
    "\n",
    "2. **Private IP Address**: This is used within a local area network (LAN) and isn't exposed directly to the internet. Devices like your computer, phone, and smart devices might have private IPs within your home network. These IPs can be assigned by your home router and are not directly accessible from the outside internet without additional configurations (like port forwarding).\n",
    "\n",
    "When you use `ssh cloud_user@<PUBLIC.IP.ADDRESS>`, you are attempting to connect to a machine using its public IP address, which is accessible from anywhere on the internet, assuming there are no firewalls or other restrictions blocking the connection.\n",
    "\n",
    "Lastly, for SSH to work, the remote machine should have an SSH server running, and the firewall settings (if any) should allow SSH connections (typically on port 22, unless configured otherwise).\n",
    "```\n"
   ]
  },
  {
   "cell_type": "code",
   "execution_count": null,
   "metadata": {
    "vscode": {
     "languageId": "plaintext"
    }
   },
   "outputs": [],
   "source": [
    "sudo yum install -y yum-utils device-mapper-persistent-data lvm2"
   ]
  },
  {
   "cell_type": "markdown",
   "metadata": {},
   "source": [
    "### Understanding the Command\n",
    "\n",
    "The command `sudo yum install -y yum-utils device-mapper-persistent-data lvm2` is a command used often in Linux distributions that utilize the `yum` package manager (like CentOS and RHEL). Let's break down the components:\n",
    "\n",
    "- `sudo`: Superuser Do. This command allows a permitted user to execute a command as the superuser or another user, as specified in the `sudoers` file.\n",
    "\n",
    "- `yum`: It stands for \"Yellowdog Updater Modified\". It is the default package manager used in Red Hat-based systems, like CentOS, RHEL, and Fedora (before `dnf` was introduced in Fedora).\n",
    "\n",
    "- `install`: This is the `yum` sub-command that indicates you want to install a package.\n",
    "\n",
    "- `-y`: This flag automatically answers 'yes' for all prompts. This means if `yum` asks if you're sure you want to install a package, it will automatically continue without waiting for user confirmation.\n",
    "\n",
    "- `yum-utils`: This is a collection of utilities and examples for the `yum` package manager to manage yum repositories and plugins.\n",
    "\n",
    "- `device-mapper-persistent-data`: This package provides tools to manage storage stacks that use the device-mapper driver. It's essential for certain advanced storage setups, especially those involving LVM (Logical Volume Management) and thin provisioning.\n",
    "\n",
    "- `lvm2`: Stands for \"Logical Volume Manager version 2\". It's a system of managing logical volumes, or filesystems, that is much more advanced than the traditional method of partitioning a disk into one or more segments and formatting that partition with a filesystem.\n",
    "\n",
    "### Sources:\n",
    "\n",
    "- [sudo man page](https://www.sudo.ws/man/1.8.27/sudo.man.html)\n",
    "- [yum in Red Hat Documentation](https://access.redhat.com/documentation/en-us/red_hat_enterprise_linux/7/html/system_administrators_guide/ch-yum)\n",
    "- [CentOS Wiki on yum](https://wiki.centos.org/PackageManagement/Yum)\n",
    "- [LVM2 Resource](https://www.sourceware.org/lvm2/)\n",
    "\n"
   ]
  },
  {
   "cell_type": "markdown",
   "metadata": {},
   "source": [
    "### Gentle Introduction to the Command\n",
    "\n",
    "If you're new to Linux and Docker, the command `sudo yum install -y yum-utils device-mapper-persistent-data lvm2` might look a bit overwhelming, but don't worry! Let's break it down piece by piece.\n",
    "\n",
    "### Command Components:\n",
    "\n",
    "1. **`sudo`**: This is a command that lets regular users act as the superuser, also known as \"root\". Think of it as \"running something with administrative privileges\" in the Windows world. It ensures that you have the necessary permissions to make system-level changes.\n",
    "\n",
    "2. **`yum`**: `yum` is akin to an \"app store\" for Linux systems. Specifically, it's a package manager for Red Hat-based systems (like CentOS). With `yum`, you can install, update, or remove software packages.\n",
    "\n",
    "3. **`install`**: This tells `yum` that you want to install one or more software packages.\n",
    "\n",
    "4. **`-y`**: This is a shortcut that tells `yum` to automatically say \"yes\" to any prompts that might come up during the installation. It's a way to streamline the installation process.\n",
    "\n",
    "5. **Packages to Install**:\n",
    "    - **`yum-utils`**: A collection of useful tools for managing software packages and repositories.\n",
    "    - **`device-mapper-persistent-data`**: Tools that help manage certain advanced storage setups. Important for Docker because Docker can store its data in specialized storage \"containers\", and this package helps manage that.\n",
    "    - **`lvm2`**: \"Logical Volume Manager\", another tool related to storage. Docker can use LVM for certain storage options.\n",
    "\n",
    "### Relation to Docker:\n",
    "\n",
    "Docker lets you run applications in containers. Think of a container as a lightweight box that contains an application and everything it needs to run. This means each application is isolated and can run consistently across different environments.\n",
    "\n",
    "Now, when setting up Docker, especially on Red Hat-based Linux distributions, it's recommended to install these tools (`yum-utils`, `device-mapper-persistent-data`, `lvm2`) because they enhance storage management capabilities for Docker. Efficient and flexible storage is vital for Docker to manage containers.\n",
    "\n",
    "### In Summary:\n",
    "\n",
    "This command is essentially prepping your system for Docker by ensuring it has the necessary software to handle advanced storage setups that Docker might use.\n",
    "\n",
    "### Sources:\n",
    "\n",
    "- [Docker Documentation](https://docs.docker.com/)\n",
    "- [CentOS Wiki on yum](https://wiki.centos.org/PackageManagement/Yum)\n",
    "- [Linux LVM2 Resource](https://www.sourceware.org/lvm2/)\n",
    "\n"
   ]
  },
  {
   "cell_type": "code",
   "execution_count": null,
   "metadata": {
    "vscode": {
     "languageId": "plaintext"
    }
   },
   "outputs": [],
   "source": [
    "sudo yum -y install docker-ce"
   ]
  },
  {
   "cell_type": "markdown",
   "metadata": {},
   "source": [
    "### Introduction to the Command\n",
    "\n",
    "If you're venturing into the world of Linux and Docker, the command `sudo yum -y install docker-ce` is a foundational step to getting started with containerization. Let's dive into each part of this command.\n",
    "\n",
    "### Command Components:\n",
    "\n",
    "1. **`sudo`**: This command allows a regular user to perform tasks with superuser (or \"administrator\") privileges. It's similar to \"Run as administrator\" in Windows. This ensures that you have the necessary permissions to make changes that affect the whole system.\n",
    "\n",
    "2. **`yum`**: Think of `yum` as the \"app store\" or \"software manager\" for certain Linux systems, especially those based on Red Hat (like CentOS and RHEL). It helps you install, update, or remove software packages.\n",
    "\n",
    "3. **`-y`**: This option automatically answers 'yes' to any prompts during the installation. It's a way of saying, \"Go ahead and install everything without asking me for confirmation.\"\n",
    "\n",
    "4. **`install`**: This tells `yum` that you want to install a specific software package.\n",
    "\n",
    "5. **`docker-ce`**: This is the name of the package you want to install. Specifically, \"Docker Community Edition\". Docker has multiple versions, and the Community Edition (CE) is the free, open-source version.\n",
    "\n",
    "### Relation to Docker:\n",
    "\n",
    "Docker is a platform that allows you to develop, ship, and run applications inside containers. If you think of a container as a box, it contains not only your application but also everything your application needs to run. This ensures that the app will run the same, whether it's on your laptop or in a cloud environment.\n",
    "\n",
    "By running `sudo yum -y install docker-ce`, you're setting up your Linux system to work with Docker by installing the Docker software itself.\n",
    "\n",
    "### In Summary:\n",
    "\n",
    "This command is your ticket to installing Docker (Community Edition) on a Red Hat-based Linux system. Once installed, you'll be able to start using Docker to containerize your applications and benefit from the consistency and portability containers offer.\n",
    "\n",
    "### Sources:\n",
    "\n",
    "- [Docker Documentation](https://docs.docker.com/)\n",
    "- [CentOS Wiki on yum](https://wiki.centos.org/PackageManagement/Yum)\n",
    "\n"
   ]
  },
  {
   "cell_type": "code",
   "execution_count": null,
   "metadata": {
    "vscode": {
     "languageId": "plaintext"
    }
   },
   "outputs": [],
   "source": [
    "sudo systemctl enable --now docker"
   ]
  },
  {
   "cell_type": "markdown",
   "metadata": {},
   "source": [
    "### Introduction to the Command\n",
    "\n",
    "For newcomers to Linux, the command `sudo systemctl enable --now docker` might seem a bit cryptic. However, this command plays a crucial role in setting up Docker to run smoothly on your system. Let's dive into its components.\n",
    "\n",
    "### Command Components:\n",
    "\n",
    "1. **`sudo`**: This command stands for \"Super User DO\". It grants you administrative privileges for the operation that follows. It's similar to \"Run as administrator\" in Windows. When you're making changes that affect the entire system, you typically need these privileges.\n",
    "\n",
    "2. **`systemctl`**: This is a utility tool for managing and inspecting the `systemd` system and service manager. In simple terms, `systemd` is what your Linux system uses to manage and control background services, often called \"daemons\". \n",
    "\n",
    "3. **`enable`**: This tells `systemctl` that you want a service to start automatically when the system boots. It sets the service to start on boot without you manually starting it each time.\n",
    "\n",
    "4. **`--now`**: This is an option that not only enables the service (as the `enable` command would) but also starts the service immediately.\n",
    "\n",
    "5. **`docker`**: This is the name of the service you're aiming to manage. In this case, you're dealing with the Docker service.\n",
    "\n",
    "### Relation to Docker:\n",
    "\n",
    "Docker, as we've established, lets you run applications in containers, ensuring consistency across different environments. However, for Docker to run, its background service (or \"daemon\") must be running.\n",
    "\n",
    "The command `sudo systemctl enable --now docker` ensures two things:\n",
    "- The Docker service will start automatically when your system boots up.\n",
    "- The Docker service is started immediately without waiting for a reboot.\n",
    "\n",
    "### In Summary:\n",
    "\n",
    "This command is all about ensuring Docker is always ready when you need it. By running this command, you're making sure the Docker service runs in the background, both now and every time you start your system.\n",
    "\n",
    "### Sources:\n",
    "\n",
    "- [systemd Documentation](https://www.freedesktop.org/wiki/Software/systemd/)\n",
    "- [Docker Documentation](https://docs.docker.com/)\n",
    "\n"
   ]
  },
  {
   "cell_type": "code",
   "execution_count": null,
   "metadata": {
    "vscode": {
     "languageId": "plaintext"
    }
   },
   "outputs": [],
   "source": [
    "sudo usermod -aG docker cloud_user"
   ]
  },
  {
   "cell_type": "markdown",
   "metadata": {},
   "source": [
    "### Introduction to the Command\n",
    "\n",
    "The command `sudo usermod -aG docker cloud_user` is crucial for setting up user permissions related to Docker on your Linux system. Let's break down each segment to understand it better.\n",
    "\n",
    "### Command Components:\n",
    "\n",
    "1. **`sudo`**: This prefix grants you administrative rights. On a Linux system, it's often necessary to have these rights when making changes that impact the system or multiple users. It's akin to \"Run as administrator\" in Windows.\n",
    "\n",
    "2. **`usermod`**: This is a utility in Linux that modifies a user account. It can change various properties of the user, such as their password, home directory, or, in this case, group memberships.\n",
    "\n",
    "3. **`-aG`**:\n",
    "   - **`-a`**: This means \"append\". When combined with `-G`, it adds the user to the group without removing them from any other groups.\n",
    "   - **`-G`**: This stands for \"groups\". It's used to specify which group (or groups) you want to add the user to.\n",
    "\n",
    "4. **`docker`**: This is the name of the group you're adding the user to. Docker, when installed, often creates a group named \"docker\". Users in this group are given permissions to interact with the Docker daemon without needing superuser permissions every time.\n",
    "\n",
    "5. **`cloud_user`**: This represents the username that you're modifying. In this context, you're adding the `cloud_user` to the `docker` group.\n",
    "\n",
    "### Relation to Docker:\n",
    "\n",
    "When using Docker, you'd often need to run Docker commands. By default, Docker requires superuser privileges (using `sudo`) to interact with the Docker daemon (the background service). However, prefixing every Docker command with `sudo` can be cumbersome.\n",
    "\n",
    "As a solution, Docker sets up a group named \"docker\". Members of this group can interact with the Docker daemon without constantly needing `sudo`. This command is, therefore, a step to give the `cloud_user` this convenience, enhancing security (by reducing excessive superuser operations) and usability.\n",
    "\n",
    "### In Summary:\n",
    "\n",
    "By executing `sudo usermod -aG docker cloud_user`, you're providing the `cloud_user` with permissions to run Docker commands without always needing superuser rights. It's a balance of security and usability.\n",
    "\n",
    "### Sources:\n",
    "\n",
    "- [Linux man page for usermod](https://man7.org/linux/man-pages/man8/usermod.8.html)\n",
    "- [Docker Post-installation steps for Linux](https://docs.docker.com/engine/install/linux-postinstall/)\n",
    "\n"
   ]
  },
  {
   "cell_type": "code",
   "execution_count": null,
   "metadata": {
    "vscode": {
     "languageId": "plaintext"
    }
   },
   "outputs": [],
   "source": [
    "docker ps"
   ]
  },
  {
   "cell_type": "markdown",
   "metadata": {},
   "source": [
    "### Introduction to `docker ps`\n",
    "\n",
    "Docker allows you to run applications inside containers. Once containers are running (or even after they've stopped), you might want to get a list of them, see their statuses, or gather other related information. The `docker ps` command helps you achieve this.\n",
    "\n",
    "### Command Functionality:\n",
    "\n",
    "**`docker ps`** displays information about containers. By default, it shows only currently running containers. The output typically includes:\n",
    "\n",
    "- **CONTAINER ID**: A unique identifier for each container.\n",
    "- **IMAGE**: The base Docker image used by the container.\n",
    "- **COMMAND**: The command that was run inside the container when it started.\n",
    "- **CREATED**: How long ago the container was created.\n",
    "- **STATUS**: Current status of the container (e.g., \"Up 2 hours\", \"Exited\").\n",
    "- **PORTS**: Any network ports that the container is exposing.\n",
    "- **NAMES**: A name assigned to the container by Docker (if you don't provide one, Docker generates a random name).\n",
    "\n",
    "### Commonly Used Options:\n",
    "\n",
    "1. **`-a`** or **`--all`**: Shows all containers, not just the currently running ones. This includes containers that have exited or are in other non-running states.\n",
    "   \n",
    "2. **`-q`** or **`--quiet`**: Displays only the container IDs, which can be handy if you want to use the output in scripts or other commands.\n",
    "\n",
    "3. **`--no-trunc`**: Doesn't truncate the output. By default, some fields like the COMMAND might be shortened to fit the display. This option shows the full information.\n",
    "\n",
    "### In Summary:\n",
    "\n",
    "The `docker ps` command is a fundamental tool when working with Docker. It provides you with a clear view of the containers on your system and their current states. Whether you're debugging issues, scripting Docker workflows, or just curious about what's running, `docker ps` is the go-to command.\n",
    "\n",
    "### Sources:\n",
    "\n",
    "- [Docker Official Documentation](https://docs.docker.com/engine/reference/commandline/ps/)\n",
    "\n"
   ]
  },
  {
   "cell_type": "markdown",
   "metadata": {},
   "source": []
  }
 ],
 "metadata": {
  "language_info": {
   "name": "python"
  },
  "orig_nbformat": 4
 },
 "nbformat": 4,
 "nbformat_minor": 2
}
